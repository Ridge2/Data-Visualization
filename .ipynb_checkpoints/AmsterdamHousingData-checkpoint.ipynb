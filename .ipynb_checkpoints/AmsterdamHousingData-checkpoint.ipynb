{
 "cells": [
  {
   "cell_type": "code",
   "execution_count": 1,
   "metadata": {},
   "outputs": [],
   "source": [
    "import pandas as pd\n",
    "import numpy as np"
   ]
  },
  {
   "cell_type": "code",
   "execution_count": 2,
   "metadata": {},
   "outputs": [],
   "source": [
    "df = pd.read_csv('AmsterdamHousingPrices/data.csv')"
   ]
  },
  {
   "cell_type": "code",
   "execution_count": 3,
   "metadata": {},
   "outputs": [
    {
     "data": {
      "text/html": [
       "<div>\n",
       "<style scoped>\n",
       "    .dataframe tbody tr th:only-of-type {\n",
       "        vertical-align: middle;\n",
       "    }\n",
       "\n",
       "    .dataframe tbody tr th {\n",
       "        vertical-align: top;\n",
       "    }\n",
       "\n",
       "    .dataframe thead th {\n",
       "        text-align: right;\n",
       "    }\n",
       "</style>\n",
       "<table border=\"1\" class=\"dataframe\">\n",
       "  <thead>\n",
       "    <tr style=\"text-align: right;\">\n",
       "      <th></th>\n",
       "      <th>Special Feature</th>\n",
       "      <th>Apartment Name</th>\n",
       "      <th>Apartment Price</th>\n",
       "      <th>Room Size</th>\n",
       "    </tr>\n",
       "  </thead>\n",
       "  <tbody>\n",
       "    <tr>\n",
       "      <th>0</th>\n",
       "      <td>\\nCondo/Apartment\\n</td>\n",
       "      <td>\\nCommelinstraat 468 - Oost en Watergraafsmeer...</td>\n",
       "      <td>\\n315.000 €  (K.K.)\\n</td>\n",
       "      <td>\\n\\n3\\n\\n2\\n\\n1\\n\\n 71,20 \\n</td>\n",
       "    </tr>\n",
       "    <tr>\n",
       "      <th>1</th>\n",
       "      <td>\\nCondo/Apartment\\n</td>\n",
       "      <td>\\nWagenaarstraat 185 - Oost en Watergraafsmeer...</td>\n",
       "      <td>\\n715.000 €  (K.K.)\\n</td>\n",
       "      <td>\\n\\n4\\n\\n3\\n\\n1\\n\\n 121,29 \\n</td>\n",
       "    </tr>\n",
       "    <tr>\n",
       "      <th>2</th>\n",
       "      <td>\\nCondo/Apartment\\n</td>\n",
       "      <td>\\nwesterlengte 151 - Amsterdam-Noord - 1034TB ...</td>\n",
       "      <td>\\n198.000 €  (K.K.)\\n</td>\n",
       "      <td>\\n\\n3\\n\\n2\\n\\n1\\n\\n 78 \\n</td>\n",
       "    </tr>\n",
       "    <tr>\n",
       "      <th>3</th>\n",
       "      <td>\\nCondo/Apartment\\n</td>\n",
       "      <td>\\nBaarsjesweg 139A - De Baarsjes - 1057 HM AMS...</td>\n",
       "      <td>\\n375.000 €  (K.K.)\\n</td>\n",
       "      <td>\\n\\n2\\n\\n1\\n\\n1\\n\\n 80,10 \\n</td>\n",
       "    </tr>\n",
       "    <tr>\n",
       "      <th>4</th>\n",
       "      <td>\\nGarden Apartment\\n</td>\n",
       "      <td>\\nLomanstraat 95 Hs - Oud-Zuid - 1075PZ AMSTER...</td>\n",
       "      <td>\\n1.250.000 €  (K.K.)\\n</td>\n",
       "      <td>\\n\\n5\\n\\n4\\n\\n2\\n\\n 140 \\n</td>\n",
       "    </tr>\n",
       "  </tbody>\n",
       "</table>\n",
       "</div>"
      ],
      "text/plain": [
       "        Special Feature                                     Apartment Name  \\\n",
       "0   \\nCondo/Apartment\\n  \\nCommelinstraat 468 - Oost en Watergraafsmeer...   \n",
       "1   \\nCondo/Apartment\\n  \\nWagenaarstraat 185 - Oost en Watergraafsmeer...   \n",
       "2   \\nCondo/Apartment\\n  \\nwesterlengte 151 - Amsterdam-Noord - 1034TB ...   \n",
       "3   \\nCondo/Apartment\\n  \\nBaarsjesweg 139A - De Baarsjes - 1057 HM AMS...   \n",
       "4  \\nGarden Apartment\\n  \\nLomanstraat 95 Hs - Oud-Zuid - 1075PZ AMSTER...   \n",
       "\n",
       "           Apartment Price                      Room Size  \n",
       "0    \\n315.000 €  (K.K.)\\n   \\n\\n3\\n\\n2\\n\\n1\\n\\n 71,20 \\n  \n",
       "1    \\n715.000 €  (K.K.)\\n  \\n\\n4\\n\\n3\\n\\n1\\n\\n 121,29 \\n  \n",
       "2    \\n198.000 €  (K.K.)\\n      \\n\\n3\\n\\n2\\n\\n1\\n\\n 78 \\n  \n",
       "3    \\n375.000 €  (K.K.)\\n   \\n\\n2\\n\\n1\\n\\n1\\n\\n 80,10 \\n  \n",
       "4  \\n1.250.000 €  (K.K.)\\n     \\n\\n5\\n\\n4\\n\\n2\\n\\n 140 \\n  "
      ]
     },
     "execution_count": 3,
     "metadata": {},
     "output_type": "execute_result"
    }
   ],
   "source": [
    "df.head()"
   ]
  },
  {
   "cell_type": "code",
   "execution_count": 21,
   "metadata": {},
   "outputs": [
    {
     "ename": "AttributeError",
     "evalue": "'list' object has no attribute 'str'",
     "output_type": "error",
     "traceback": [
      "\u001b[0;31m---------------------------------------------------------------------------\u001b[0m",
      "\u001b[0;31mAttributeError\u001b[0m                            Traceback (most recent call last)",
      "\u001b[0;32m<ipython-input-21-24a62ce29c0a>\u001b[0m in \u001b[0;36m<module>\u001b[0;34m()\u001b[0m\n\u001b[0;32m----> 1\u001b[0;31m \u001b[0mnewDf\u001b[0m \u001b[0;34m=\u001b[0m \u001b[0mdf\u001b[0m\u001b[0;34m(\u001b[0m\u001b[0;34m[\u001b[0m\u001b[0;34m'Special Feature'\u001b[0m\u001b[0;34m,\u001b[0m \u001b[0;34m'Apartment Name'\u001b[0m\u001b[0;34m,\u001b[0m \u001b[0;34m'Apartment Price'\u001b[0m\u001b[0;34m,\u001b[0m \u001b[0;34m'Room Size'\u001b[0m\u001b[0;34m]\u001b[0m\u001b[0;34m.\u001b[0m\u001b[0mstr\u001b[0m\u001b[0;34m.\u001b[0m\u001b[0mreplace\u001b[0m\u001b[0;34m(\u001b[0m\u001b[0;34m'\\n'\u001b[0m\u001b[0;34m,\u001b[0m \u001b[0;34m''\u001b[0m\u001b[0;34m)\u001b[0m\u001b[0;34m)\u001b[0m\u001b[0;34m\u001b[0m\u001b[0m\n\u001b[0m",
      "\u001b[0;31mAttributeError\u001b[0m: 'list' object has no attribute 'str'"
     ]
    }
   ],
   "source": [
    "newDf = df(['Special Feature', 'Apartment Name', 'Apartment Price', 'Room Size']).str.replace('\\n', '')"
   ]
  },
  {
   "cell_type": "code",
   "execution_count": 7,
   "metadata": {},
   "outputs": [
    {
     "data": {
      "text/plain": [
       "0     Condo/Apartment\n",
       "1     Condo/Apartment\n",
       "2     Condo/Apartment\n",
       "3     Condo/Apartment\n",
       "4    Garden Apartment\n",
       "Name: Special Feature, dtype: object"
      ]
     },
     "execution_count": 7,
     "metadata": {},
     "output_type": "execute_result"
    }
   ],
   "source": [
    "newDf.head()"
   ]
  },
  {
   "cell_type": "code",
   "execution_count": null,
   "metadata": {},
   "outputs": [],
   "source": []
  }
 ],
 "metadata": {
  "kernelspec": {
   "display_name": "Python 3",
   "language": "python",
   "name": "python3"
  },
  "language_info": {
   "codemirror_mode": {
    "name": "ipython",
    "version": 3
   },
   "file_extension": ".py",
   "mimetype": "text/x-python",
   "name": "python",
   "nbconvert_exporter": "python",
   "pygments_lexer": "ipython3",
   "version": "3.7.0"
  }
 },
 "nbformat": 4,
 "nbformat_minor": 2
}
